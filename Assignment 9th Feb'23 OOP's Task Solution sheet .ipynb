{
 "cells": [
  {
   "cell_type": "markdown",
   "id": "ef2177b4-9c81-4479-9266-663dea730fff",
   "metadata": {},
   "source": [
    "Q1, Create a vehicle class with an init method having instance variables as name_of_vehicle, max_speed and average_of_vehicle."
   ]
  },
  {
   "cell_type": "code",
   "execution_count": 1,
   "id": "e02d0f2c-9271-42bf-a8d4-a0813f848e6c",
   "metadata": {},
   "outputs": [],
   "source": [
    "class vehicle:\n",
    "    \n",
    "    def __init__(self, name_of_vehicle, max_speed, average_of_vehicle):\n",
    "        self.name_of_vehicle = name_of_vehicle\n",
    "        self.max_speed = max_speed\n",
    "        self.average_of_vehicle = average_of_vehicle "
   ]
  },
  {
   "cell_type": "markdown",
   "id": "c623e028-3251-4ea3-827c-5634baab4a63",
   "metadata": {},
   "source": [
    "Q2. Create a child class car from the vehicle class created in Que 1, which will inherit the vehicle class.\n",
    "\n",
    "Create a method named seating_capacity which takes capacity as an argument and returns the name of the vehicle and its seating capacity."
   ]
  },
  {
   "cell_type": "code",
   "execution_count": 2,
   "id": "fcda6645-8e63-43a1-b67a-1490c9c415c2",
   "metadata": {},
   "outputs": [],
   "source": [
    "car = vehicle(\"Innova\", 180, 35)"
   ]
  },
  {
   "cell_type": "code",
   "execution_count": 3,
   "id": "288bf512-f5ee-4193-8922-248d1609cd38",
   "metadata": {},
   "outputs": [
    {
     "data": {
      "text/plain": [
       "'Innova'"
      ]
     },
     "execution_count": 3,
     "metadata": {},
     "output_type": "execute_result"
    }
   ],
   "source": [
    "car.name_of_vehicle"
   ]
  },
  {
   "cell_type": "code",
   "execution_count": 4,
   "id": "178b8d55-850e-48d5-b9b7-8080d8fb1554",
   "metadata": {},
   "outputs": [
    {
     "data": {
      "text/plain": [
       "180"
      ]
     },
     "execution_count": 4,
     "metadata": {},
     "output_type": "execute_result"
    }
   ],
   "source": [
    "car.max_speed"
   ]
  },
  {
   "cell_type": "code",
   "execution_count": 5,
   "id": "72b90921-129c-42cd-bfb7-c3c0c5034920",
   "metadata": {},
   "outputs": [
    {
     "data": {
      "text/plain": [
       "35"
      ]
     },
     "execution_count": 5,
     "metadata": {},
     "output_type": "execute_result"
    }
   ],
   "source": [
    "car.average_of_vehicle"
   ]
  },
  {
   "cell_type": "code",
   "execution_count": 6,
   "id": "6805665b-5135-4fbb-8707-4e47097ead44",
   "metadata": {},
   "outputs": [],
   "source": [
    "class car(vehicle):\n",
    "    def __init__(self, name_of_vehicle, max_speed, average_of_vehicle):\n",
    "        super().__init__(name_of_vehicle, max_speed, average_of_vehicle)\n",
    "\n",
    "    def seating_capacity(self, capacity):\n",
    "        return f\"{self.name_of_vehicle} has a seating capacity of {capacity} people.\"\n",
    "   "
   ]
  },
  {
   "cell_type": "code",
   "execution_count": 7,
   "id": "e3925b8e-15e9-4914-8f8e-7a4e40db36e7",
   "metadata": {},
   "outputs": [],
   "source": [
    "car = car('Innova', 180, 35)"
   ]
  },
  {
   "cell_type": "code",
   "execution_count": 8,
   "id": "345b20ea-45bb-4580-805b-6dbd6af84b2a",
   "metadata": {},
   "outputs": [
    {
     "data": {
      "text/plain": [
       "'Innova has a seating capacity of 7 people.'"
      ]
     },
     "execution_count": 8,
     "metadata": {},
     "output_type": "execute_result"
    }
   ],
   "source": [
    "car.seating_capacity(7)"
   ]
  },
  {
   "cell_type": "markdown",
   "id": "01113d15-fd07-4e31-b146-f42f856f9082",
   "metadata": {},
   "source": [
    "Q3. What is multiple inheritance? Write a python code to demonstrate multiple inheritance."
   ]
  },
  {
   "cell_type": "markdown",
   "id": "9dfd442c-0580-4cbd-b239-fe52f4034f65",
   "metadata": {},
   "source": [
    "Answer 3. Multiple inheritance is a feature in object-oriented programming languages that allows a class to inherit from multiple base classes. This means that a derived class can have characteristics of more than one parent class.\n",
    "\n",
    "Example is demonstrated below in the code cells - "
   ]
  },
  {
   "cell_type": "code",
   "execution_count": 9,
   "id": "bb5b203c-c6a8-40b6-97f6-f4802eef9e71",
   "metadata": {},
   "outputs": [],
   "source": [
    "class class1:\n",
    "    def test_class1(self):\n",
    "        print(\"This is my class 1\")"
   ]
  },
  {
   "cell_type": "code",
   "execution_count": 10,
   "id": "4715eccd-b268-4482-97e9-5662aac970a0",
   "metadata": {},
   "outputs": [],
   "source": [
    "class class2:\n",
    "    def test_class2(self):\n",
    "        print(\"This is my class 2\")"
   ]
  },
  {
   "cell_type": "code",
   "execution_count": 11,
   "id": "d394ff6d-6bc7-4c78-a548-fc96987c87ba",
   "metadata": {},
   "outputs": [],
   "source": [
    "class class3 (class1,class2) :\n",
    "    pass\n",
    "    "
   ]
  },
  {
   "cell_type": "code",
   "execution_count": 12,
   "id": "56852602-c6d6-4bda-8f9b-1760085d8ec7",
   "metadata": {},
   "outputs": [],
   "source": [
    "obj_class3 = class3()"
   ]
  },
  {
   "cell_type": "code",
   "execution_count": 13,
   "id": "6eb03271-25a8-4219-872a-caca507a4b3b",
   "metadata": {},
   "outputs": [
    {
     "name": "stdout",
     "output_type": "stream",
     "text": [
      "This is my class 1\n"
     ]
    }
   ],
   "source": [
    "obj_class3.test_class1()"
   ]
  },
  {
   "cell_type": "code",
   "execution_count": 14,
   "id": "4784c2ad-125a-487a-bf3c-c519e4b5299d",
   "metadata": {},
   "outputs": [
    {
     "name": "stdout",
     "output_type": "stream",
     "text": [
      "This is my class 2\n"
     ]
    }
   ],
   "source": [
    "obj_class3.test_class2()"
   ]
  },
  {
   "cell_type": "markdown",
   "id": "9b6c08f0-2244-4c6a-8067-12247257fd3f",
   "metadata": {},
   "source": [
    "Q4. What are getter and setter in python? Create a class and create a getter and a setter method in this class."
   ]
  },
  {
   "cell_type": "markdown",
   "id": "f53c5426-3a3c-497a-8e1f-f5dfd18675cb",
   "metadata": {},
   "source": [
    "Answer 4. In Python, getter and setter methods are used to retrieve and set the values of private attributes of a class. These methods are usually named with the prefix \"get_\" and \"set_\" respectively, followed by the attribute name.\n",
    "\n",
    "The example of a class with a private attribute and getter/setter methods are mentioned below inn the code cells."
   ]
  },
  {
   "cell_type": "code",
   "execution_count": 15,
   "id": "ab650642-2468-4d1f-bda6-c920e9f205e0",
   "metadata": {},
   "outputs": [],
   "source": [
    "class person:\n",
    "    \n",
    "    def __init__(self, name):\n",
    "        self.__name = name \n",
    "        \n",
    "    def get_name(self):\n",
    "        return self.__name\n",
    "    \n",
    "    def set_name(self, name):\n",
    "        self.__name = name"
   ]
  },
  {
   "cell_type": "code",
   "execution_count": 16,
   "id": "9eddc29c-f6d0-42a7-bdd0-187c93cb8906",
   "metadata": {},
   "outputs": [],
   "source": [
    "p = person(\"Suraj\")"
   ]
  },
  {
   "cell_type": "code",
   "execution_count": 17,
   "id": "602cf74b-5163-46f6-abd6-a42cb564eb76",
   "metadata": {},
   "outputs": [
    {
     "data": {
      "text/plain": [
       "'Suraj'"
      ]
     },
     "execution_count": 17,
     "metadata": {},
     "output_type": "execute_result"
    }
   ],
   "source": [
    "p.get_name()"
   ]
  },
  {
   "cell_type": "code",
   "execution_count": 18,
   "id": "2a76e524-8bbd-4fb4-9b2d-c4dd2bc1f3f6",
   "metadata": {},
   "outputs": [],
   "source": [
    "p.set_name(\"pwskills\")"
   ]
  },
  {
   "cell_type": "code",
   "execution_count": 19,
   "id": "da01c848-ca9c-49de-94cb-1dcebe5a504b",
   "metadata": {},
   "outputs": [
    {
     "data": {
      "text/plain": [
       "'pwskills'"
      ]
     },
     "execution_count": 19,
     "metadata": {},
     "output_type": "execute_result"
    }
   ],
   "source": [
    "p.get_name()"
   ]
  },
  {
   "cell_type": "markdown",
   "id": "8f8d7c02-1f8c-40bd-bad4-bcee2e6579c0",
   "metadata": {},
   "source": [
    "Q5.What is method overriding in python? Write a python code to demonstrate method overriding."
   ]
  },
  {
   "cell_type": "markdown",
   "id": "8c928e61-9b2c-4b81-9ccf-5445dbc6a7c8",
   "metadata": {},
   "source": [
    "Answer 5. Method overriding is a feature in object-oriented programming that allows a subclass to provide its own implementation of a method that is already defined in its parent class. This means that the subclass's method \"overrides\" the method in the parent class.\n",
    "\n",
    "Example is demonstrated below - "
   ]
  },
  {
   "cell_type": "code",
   "execution_count": 26,
   "id": "f8eb0474-cb06-499e-8fd7-8d39a885db84",
   "metadata": {},
   "outputs": [],
   "source": [
    "class animal:\n",
    "    def make_sound(self):\n",
    "        print(\"The animal makes a sound\")\n",
    "        \n",
    "class dog(animal):\n",
    "    def make_sound(self):\n",
    "        print(\"The dog barks\")"
   ]
  },
  {
   "cell_type": "code",
   "execution_count": 27,
   "id": "8d0d53d2-cba9-41d9-a2ad-afec0f096589",
   "metadata": {},
   "outputs": [],
   "source": [
    "Animal = animal()"
   ]
  },
  {
   "cell_type": "code",
   "execution_count": 28,
   "id": "802c2d6b-2ae0-4955-8d97-29e5e1b52932",
   "metadata": {},
   "outputs": [],
   "source": [
    "Dog = dog()"
   ]
  },
  {
   "cell_type": "code",
   "execution_count": 29,
   "id": "f7b82713-112b-48c0-bf0d-275506d96942",
   "metadata": {},
   "outputs": [
    {
     "name": "stdout",
     "output_type": "stream",
     "text": [
      "The animal makes a sound\n"
     ]
    }
   ],
   "source": [
    "Animal.make_sound()"
   ]
  },
  {
   "cell_type": "code",
   "execution_count": 30,
   "id": "b15cf82f-7515-454a-abcc-94562917bce1",
   "metadata": {},
   "outputs": [
    {
     "name": "stdout",
     "output_type": "stream",
     "text": [
      "The dog barks\n"
     ]
    }
   ],
   "source": [
    "Dog.make_sound()"
   ]
  }
 ],
 "metadata": {
  "kernelspec": {
   "display_name": "Python 3 (ipykernel)",
   "language": "python",
   "name": "python3"
  },
  "language_info": {
   "codemirror_mode": {
    "name": "ipython",
    "version": 3
   },
   "file_extension": ".py",
   "mimetype": "text/x-python",
   "name": "python",
   "nbconvert_exporter": "python",
   "pygments_lexer": "ipython3",
   "version": "3.10.8"
  }
 },
 "nbformat": 4,
 "nbformat_minor": 5
}
